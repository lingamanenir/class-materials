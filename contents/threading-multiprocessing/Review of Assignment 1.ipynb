{
 "cells": [
  {
   "cell_type": "markdown",
   "metadata": {},
   "source": [
    "# Assignment 1"
   ]
  },
  {
   "cell_type": "markdown",
   "metadata": {},
   "source": [
    "### Task 1"
   ]
  },
  {
   "cell_type": "code",
   "execution_count": 2,
   "metadata": {},
   "outputs": [],
   "source": [
    "def fibonacci(nth):\n",
    "    \"\"\"\n",
    "    Returns the nth # of fibonacci series.\n",
    "    \"\"\"\n",
    "    #1,1,2,3,5,8,...\n",
    "    if nth < 0:\n",
    "        print('Wrong input')\n",
    "    elif nth == 1:\n",
    "        number = 0\n",
    "    elif nth == 2:\n",
    "        number = 1\n",
    "    else:\n",
    "        number = fibonacci(nth-2) + fibonacci(nth-1)\n",
    "    \n",
    "    return number"
   ]
  },
  {
   "cell_type": "code",
   "execution_count": 7,
   "metadata": {},
   "outputs": [
    {
     "data": {
      "text/plain": [
       "(5, 8, 13, 34)"
      ]
     },
     "execution_count": 7,
     "metadata": {},
     "output_type": "execute_result"
    }
   ],
   "source": [
    "fibonacci(6), fibonacci(7), fibonacci(8), fibonacci(10)"
   ]
  },
  {
   "cell_type": "markdown",
   "metadata": {},
   "source": [
    "### Task 2"
   ]
  },
  {
   "cell_type": "code",
   "execution_count": 17,
   "metadata": {},
   "outputs": [],
   "source": [
    "class Animal:\n",
    "    def moves(self, step=2):\n",
    "        \"\"\"\n",
    "        Returns the steps the animal takes.\n",
    "        \"\"\"\n",
    "        return step\n",
    "\n",
    "\n",
    "class Dog(Animal):\n",
    "    name: str = 'Arthur'\n",
    "    dog_type: str = 'pitbull'\n",
    "    age: int = 10"
   ]
  },
  {
   "cell_type": "code",
   "execution_count": 18,
   "metadata": {},
   "outputs": [],
   "source": [
    "animal = Animal()\n",
    "dog = Dog()"
   ]
  },
  {
   "cell_type": "code",
   "execution_count": 19,
   "metadata": {},
   "outputs": [
    {
     "data": {
      "text/plain": [
       "<bound method Animal.moves of <__main__.Animal object at 0x000002F2CC1DDA00>>"
      ]
     },
     "execution_count": 19,
     "metadata": {},
     "output_type": "execute_result"
    }
   ],
   "source": [
    "animal.moves"
   ]
  },
  {
   "cell_type": "code",
   "execution_count": 20,
   "metadata": {},
   "outputs": [
    {
     "data": {
      "text/plain": [
       "4"
      ]
     },
     "execution_count": 20,
     "metadata": {},
     "output_type": "execute_result"
    }
   ],
   "source": [
    "dog.moves(4)"
   ]
  },
  {
   "cell_type": "markdown",
   "metadata": {},
   "source": [
    "### Task 3"
   ]
  },
  {
   "cell_type": "code",
   "execution_count": 21,
   "metadata": {},
   "outputs": [
    {
     "data": {
      "text/plain": [
       "8"
      ]
     },
     "execution_count": 21,
     "metadata": {},
     "output_type": "execute_result"
    }
   ],
   "source": [
    "(lambda x, nth: x ** nth)(2, 3)"
   ]
  },
  {
   "cell_type": "code",
   "execution_count": 22,
   "metadata": {},
   "outputs": [],
   "source": [
    "func = lambda x, nth: x ** nth"
   ]
  },
  {
   "cell_type": "code",
   "execution_count": 23,
   "metadata": {},
   "outputs": [
    {
     "data": {
      "text/plain": [
       "<function __main__.<lambda>(x, nth)>"
      ]
     },
     "execution_count": 23,
     "metadata": {},
     "output_type": "execute_result"
    }
   ],
   "source": [
    "func"
   ]
  },
  {
   "cell_type": "code",
   "execution_count": 24,
   "metadata": {},
   "outputs": [
    {
     "data": {
      "text/plain": [
       "8"
      ]
     },
     "execution_count": 24,
     "metadata": {},
     "output_type": "execute_result"
    }
   ],
   "source": [
    "func(2, 3)"
   ]
  },
  {
   "cell_type": "markdown",
   "metadata": {},
   "source": [
    "### Task 4\n",
    "\n",
    "Please refer to the `Class-2020-03-27` in [class-materials](https://github.com/spu-bigdataanalytics-201/class-materials) repository."
   ]
  },
  {
   "cell_type": "code",
   "execution_count": 68,
   "metadata": {},
   "outputs": [],
   "source": [
    "def decorator_print_before_and_after(func):\n",
    "    \"\"\"\n",
    "    Prints before and after the execution of a function.\n",
    "    \n",
    "    This is the definition of the decorator.\n",
    "    \"\"\"\n",
    "    def wrapper():\n",
    "        print('Begining of the function')\n",
    "        func()\n",
    "        print('End of the function')   \n",
    "    return wrapper"
   ]
  },
  {
   "cell_type": "code",
   "execution_count": 69,
   "metadata": {},
   "outputs": [],
   "source": [
    "@decorator_print_before_and_after\n",
    "def say_name(name):\n",
    "    \"\"\"\n",
    "    counts by one\n",
    "    \"\"\"\n",
    "    print(f'Hello, {name}!')"
   ]
  },
  {
   "cell_type": "code",
   "execution_count": 63,
   "metadata": {},
   "outputs": [
    {
     "data": {
      "text/plain": [
       "<function __main__.decorator_print_before_and_after.<locals>.wrapper(func)>"
      ]
     },
     "execution_count": 63,
     "metadata": {},
     "output_type": "execute_result"
    }
   ],
   "source": [
    "decorator_print_before_and_after(say_name('Metin'))"
   ]
  },
  {
   "cell_type": "code",
   "execution_count": 72,
   "metadata": {
    "scrolled": true
   },
   "outputs": [
    {
     "ename": "TypeError",
     "evalue": "wrapper() takes 0 positional arguments but 1 was given",
     "output_type": "error",
     "traceback": [
      "\u001b[1;31m---------------------------------------------------------------------------\u001b[0m",
      "\u001b[1;31mTypeError\u001b[0m                                 Traceback (most recent call last)",
      "\u001b[1;32m<ipython-input-72-842c8554d138>\u001b[0m in \u001b[0;36m<module>\u001b[1;34m\u001b[0m\n\u001b[1;32m----> 1\u001b[1;33m \u001b[0msay_name\u001b[0m\u001b[1;33m(\u001b[0m\u001b[1;34m'Metin'\u001b[0m\u001b[1;33m)\u001b[0m\u001b[1;33m\u001b[0m\u001b[1;33m\u001b[0m\u001b[0m\n\u001b[0m",
      "\u001b[1;31mTypeError\u001b[0m: wrapper() takes 0 positional arguments but 1 was given"
     ]
    }
   ],
   "source": [
    "say_name('Metin')"
   ]
  },
  {
   "cell_type": "code",
   "execution_count": 67,
   "metadata": {},
   "outputs": [
    {
     "data": {
      "text/plain": [
       "['Create',\n",
       " 'a',\n",
       " 'decorator',\n",
       " 'function',\n",
       " 'that',\n",
       " 'prints',\n",
       " 'before',\n",
       " 'and',\n",
       " 'after',\n",
       " 'the',\n",
       " 'execution',\n",
       " 'of',\n",
       " 'the',\n",
       " 'function',\n",
       " 'it',\n",
       " 'is',\n",
       " 'used',\n",
       " 'with']"
      ]
     },
     "execution_count": 67,
     "metadata": {},
     "output_type": "execute_result"
    }
   ],
   "source": [
    "# Example from Bhagyashree Chavan\n",
    "\n",
    "# creating function \n",
    "def split_string(function):\n",
    "    def wrapper():\n",
    "        func1 = function()\n",
    "        splitted_string = func1.split()\n",
    "        return splitted_string\n",
    "\n",
    "    return wrapper\n",
    "\n",
    "# creating decoratore\n",
    "@split_string\n",
    "def creating_decorator():\n",
    "    return 'Create a decorator function that prints before and after the execution of the function it is used with'\n",
    "\n",
    "creating_decorator()"
   ]
  },
  {
   "cell_type": "markdown",
   "metadata": {},
   "source": [
    "### Task 6"
   ]
  },
  {
   "cell_type": "code",
   "execution_count": 76,
   "metadata": {},
   "outputs": [],
   "source": [
    "# reading file into a variable\n",
    "with open('numbers.txt', mode='r') as reader:\n",
    "    contents = reader.read()"
   ]
  },
  {
   "cell_type": "code",
   "execution_count": 78,
   "metadata": {},
   "outputs": [],
   "source": [
    "# convert string to numbers\n",
    "numbers_list = [int(i) for i in contents.split('\\n')]"
   ]
  },
  {
   "cell_type": "code",
   "execution_count": 105,
   "metadata": {},
   "outputs": [],
   "source": [
    "result = sum(map(int, contents.split('\\n')))"
   ]
  },
  {
   "cell_type": "code",
   "execution_count": 106,
   "metadata": {},
   "outputs": [
    {
     "data": {
      "text/plain": [
       "'9831892672'"
      ]
     },
     "execution_count": 106,
     "metadata": {},
     "output_type": "execute_result"
    }
   ],
   "source": [
    "str(result)[-10:]"
   ]
  },
  {
   "cell_type": "markdown",
   "metadata": {},
   "source": [
    "### Task 7"
   ]
  },
  {
   "cell_type": "code",
   "execution_count": 85,
   "metadata": {},
   "outputs": [],
   "source": [
    "from functools import reduce"
   ]
  },
  {
   "cell_type": "code",
   "execution_count": 87,
   "metadata": {},
   "outputs": [
    {
     "data": {
      "text/plain": [
       "10405071317"
      ]
     },
     "execution_count": 87,
     "metadata": {},
     "output_type": "execute_result"
    }
   ],
   "source": [
    "# The series of 1^1 + 2^2 + 3^3 + ... + 10^10 equals to 10405071317\n",
    "sum(map(lambda x: x ** x, range(1, 11)))"
   ]
  },
  {
   "cell_type": "code",
   "execution_count": 92,
   "metadata": {},
   "outputs": [],
   "source": [
    "# 1^1 + 2^2 + 3^3 + ... + 500^500\n",
    "numbers_list = list(map(lambda x: x ** x, range(1, 501)))"
   ]
  },
  {
   "cell_type": "code",
   "execution_count": 93,
   "metadata": {},
   "outputs": [
    {
     "data": {
      "text/plain": [
       "305718797201488251171962581870156156046510618754478030723102196769129595085179319922583225708457936169664584203024820395605970422184020885215622043827326551232165704333229721111729941037015237734686087927679432830846889533585948569290293674605163277279719106950205980831602948430030150820806162683406571767609701168639755622020059416808324637445951273486709563285794139993865537552727198537266117274947661236634468323039812845859582158516322679108023437430997594624043136738219076882927843599749036287277233094833983692654175480772452535708894110578643821420258165017131188173597666820635992228791483887487223800676715386934383472879749615566837514558911513335509280383852478128932253188170463538282591672877209938985951036215085588934247480406007271081973097171698817005346243445736717300662433367019714402017076171308829937622040396609366972702211230050253660669929723061076972029686980542328930254313285657753477862277434439906091282258015929185933435325789208117844975296453113875520798202770599910679586787423571764342907062450810279959992332878148231127403157806189575681225245124961467748584552447394820566105014992141251862020113047847625969301009716451055062207394281361389018851995613668703351295650928787453906580033199563229312421590280219374488801484771537505021643706884893106756342528406455232540238986336019337172598363786071688579600"
      ]
     },
     "execution_count": 93,
     "metadata": {},
     "output_type": "execute_result"
    }
   ],
   "source": [
    "# find the sum using the sum function\n",
    "sum(numbers_list)"
   ]
  },
  {
   "cell_type": "code",
   "execution_count": 95,
   "metadata": {},
   "outputs": [],
   "source": [
    "# reduce(function, sequence[, initial]) -> value\n",
    "result = reduce(lambda x, y: x + y, numbers_list)"
   ]
  },
  {
   "cell_type": "code",
   "execution_count": 96,
   "metadata": {},
   "outputs": [
    {
     "data": {
      "text/plain": [
       "int"
      ]
     },
     "execution_count": 96,
     "metadata": {},
     "output_type": "execute_result"
    }
   ],
   "source": [
    "type(result)"
   ]
  },
  {
   "cell_type": "code",
   "execution_count": 102,
   "metadata": {},
   "outputs": [
    {
     "data": {
      "text/plain": [
       "'1688579600'"
      ]
     },
     "execution_count": 102,
     "metadata": {},
     "output_type": "execute_result"
    }
   ],
   "source": [
    "str(result)[-10:]"
   ]
  }
 ],
 "metadata": {
  "kernelspec": {
   "display_name": "Assignment1",
   "language": "python",
   "name": "assignment1"
  },
  "language_info": {
   "codemirror_mode": {
    "name": "ipython",
    "version": 3
   },
   "file_extension": ".py",
   "mimetype": "text/x-python",
   "name": "python",
   "nbconvert_exporter": "python",
   "pygments_lexer": "ipython3",
   "version": "3.8.1"
  }
 },
 "nbformat": 4,
 "nbformat_minor": 4
}
