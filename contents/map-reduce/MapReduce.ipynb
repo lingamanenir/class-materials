{
 "cells": [
  {
   "cell_type": "markdown",
   "metadata": {},
   "source": [
    "## Map Reduce"
   ]
  },
  {
   "cell_type": "code",
   "execution_count": 1,
   "metadata": {},
   "outputs": [],
   "source": [
    "from functools import reduce\n",
    "from itertools import groupby"
   ]
  },
  {
   "source": [
    "## Map, Reduce, Groupby Functions"
   ],
   "cell_type": "markdown",
   "metadata": {}
  },
  {
   "cell_type": "code",
   "execution_count": 2,
   "metadata": {},
   "outputs": [
    {
     "output_type": "stream",
     "name": "stdout",
     "text": [
      "Help on class map in module builtins:\n\nclass map(object)\n |  map(func, *iterables) --> map object\n |  \n |  Make an iterator that computes the function using arguments from\n |  each of the iterables.  Stops when the shortest iterable is exhausted.\n |  \n |  Methods defined here:\n |  \n |  __getattribute__(self, name, /)\n |      Return getattr(self, name).\n |  \n |  __iter__(self, /)\n |      Implement iter(self).\n |  \n |  __next__(self, /)\n |      Implement next(self).\n |  \n |  __reduce__(...)\n |      Return state information for pickling.\n |  \n |  ----------------------------------------------------------------------\n |  Static methods defined here:\n |  \n |  __new__(*args, **kwargs) from builtins.type\n |      Create and return a new object.  See help(type) for accurate signature.\n\n"
     ]
    }
   ],
   "source": [
    "help(map)"
   ]
  },
  {
   "cell_type": "code",
   "execution_count": 3,
   "metadata": {},
   "outputs": [],
   "source": [
    "def my_sum(a):\n",
    "    return a + a + a"
   ]
  },
  {
   "cell_type": "code",
   "execution_count": 4,
   "metadata": {},
   "outputs": [
    {
     "output_type": "execute_result",
     "data": {
      "text/plain": [
       "3"
      ]
     },
     "metadata": {},
     "execution_count": 4
    }
   ],
   "source": [
    "my_sum(1)"
   ]
  },
  {
   "cell_type": "code",
   "execution_count": 5,
   "metadata": {},
   "outputs": [
    {
     "output_type": "execute_result",
     "data": {
      "text/plain": [
       "[1, 2, 3, 4]"
      ]
     },
     "metadata": {},
     "execution_count": 5
    }
   ],
   "source": [
    "[1,2,3,4]"
   ]
  },
  {
   "cell_type": "code",
   "execution_count": 6,
   "metadata": {},
   "outputs": [
    {
     "output_type": "execute_result",
     "data": {
      "text/plain": [
       "[3, 6, 9, 12, 15, 18, 21]"
      ]
     },
     "metadata": {},
     "execution_count": 6
    }
   ],
   "source": [
    "list(map(my_sum, [1,2,3,4,5,6,7]))"
   ]
  },
  {
   "cell_type": "code",
   "execution_count": 7,
   "metadata": {},
   "outputs": [
    {
     "output_type": "stream",
     "name": "stdout",
     "text": [
      "Help on class groupby in module itertools:\n\nclass groupby(builtins.object)\n |  groupby(iterable, key=None) -> make an iterator that returns consecutive\n |  keys and groups from the iterable.  If the key function is not specified or\n |  is None, the element itself is used for grouping.\n |  \n |  Methods defined here:\n |  \n |  __getattribute__(self, name, /)\n |      Return getattr(self, name).\n |  \n |  __iter__(self, /)\n |      Implement iter(self).\n |  \n |  __next__(self, /)\n |      Implement next(self).\n |  \n |  __reduce__(...)\n |      Return state information for pickling.\n |  \n |  __setstate__(...)\n |      Set state information for unpickling.\n |  \n |  ----------------------------------------------------------------------\n |  Static methods defined here:\n |  \n |  __new__(*args, **kwargs) from builtins.type\n |      Create and return a new object.  See help(type) for accurate signature.\n\n"
     ]
    }
   ],
   "source": [
    "help(groupby)"
   ]
  },
  {
   "cell_type": "code",
   "execution_count": 8,
   "metadata": {},
   "outputs": [
    {
     "output_type": "execute_result",
     "data": {
      "text/plain": [
       "[('a', <itertools._grouper at 0x107529400>),\n",
       " ('b', <itertools._grouper at 0x107529438>)]"
      ]
     },
     "metadata": {},
     "execution_count": 8
    }
   ],
   "source": [
    "[('a', 1), ('a', 2), ('b', 5)]\n",
    "list(groupby([('a', 1), ('a', 2), ('b', 5)], key=lambda x: x[0]))"
   ]
  },
  {
   "cell_type": "code",
   "execution_count": 9,
   "metadata": {},
   "outputs": [
    {
     "output_type": "stream",
     "name": "stdout",
     "text": [
      "Help on built-in function reduce in module _functools:\n\nreduce(...)\n    reduce(function, sequence[, initial]) -> value\n    \n    Apply a function of two arguments cumulatively to the items of a sequence,\n    from left to right, so as to reduce the sequence to a single value.\n    For example, reduce(lambda x, y: x+y, [1, 2, 3, 4, 5]) calculates\n    ((((1+2)+3)+4)+5).  If initial is present, it is placed before the items\n    of the sequence in the calculation, and serves as a default when the\n    sequence is empty.\n\n"
     ]
    }
   ],
   "source": [
    "help(reduce)"
   ]
  },
  {
   "cell_type": "code",
   "execution_count": 10,
   "metadata": {},
   "outputs": [
    {
     "output_type": "execute_result",
     "data": {
      "text/plain": [
       "6"
      ]
     },
     "metadata": {},
     "execution_count": 10
    }
   ],
   "source": [
    "reduce(lambda x, y: x + y, [1, 2, 3])\n",
    "\n",
    "# How it works for reduce\n",
    "# 1. [1, 2, 3]\n",
    "# 2. [3, 3]\n",
    "# 3. [6]\n",
    "# 3. 6 "
   ]
  },
  {
   "source": [
    "## Mapping"
   ],
   "cell_type": "markdown",
   "metadata": {}
  },
  {
   "cell_type": "code",
   "execution_count": 11,
   "metadata": {},
   "outputs": [
    {
     "output_type": "stream",
     "name": "stdout",
     "text": [
      "[('Deer', 1), ('Bear', 1), ('River', 1), ('Car', 1), ('Car', 1), ('River', 1), ('Deer', 1), ('Car', 1), ('Bear', 1)]\n"
     ]
    }
   ],
   "source": [
    "words = ['Deer', 'Bear', 'River', 'Car',\n",
    "         'Car', 'River', 'Deer', 'Car', 'Bear']\n",
    "\n",
    "mapping = list(map(lambda x: (x, 1), words))\n",
    "print(mapping)"
   ]
  },
  {
   "source": [
    "## Shuffling"
   ],
   "cell_type": "markdown",
   "metadata": {}
  },
  {
   "cell_type": "code",
   "execution_count": 12,
   "metadata": {},
   "outputs": [
    {
     "output_type": "stream",
     "name": "stdout",
     "text": [
      "[('Bear', 1), ('Bear', 1), ('Car', 1), ('Car', 1), ('Car', 1), ('Deer', 1), ('Deer', 1), ('River', 1), ('River', 1)]\n"
     ]
    }
   ],
   "source": [
    "sorted_mapping = sorted(mapping)\n",
    "print(sorted_mapping)"
   ]
  },
  {
   "source": [
    "## Reducing"
   ],
   "cell_type": "markdown",
   "metadata": {}
  },
  {
   "cell_type": "code",
   "execution_count": 13,
   "metadata": {},
   "outputs": [
    {
     "output_type": "stream",
     "name": "stdout",
     "text": [
      "Bear\n",
      "[('Bear', 1), ('Bear', 1)]\n",
      "[1, 1]\n",
      "2\n",
      "Car\n",
      "[('Car', 1), ('Car', 1), ('Car', 1)]\n",
      "[1, 1, 1]\n",
      "3\n",
      "Deer\n",
      "[('Deer', 1), ('Deer', 1)]\n",
      "[1, 1]\n",
      "2\n",
      "River\n",
      "[('River', 1), ('River', 1)]\n",
      "[1, 1]\n",
      "2\n"
     ]
    }
   ],
   "source": [
    "# ------ breakdown of 'Reducing' Phase ---------\n",
    "grouper = groupby(sorted_mapping, lambda p: p[0])\n",
    "\n",
    "results = []\n",
    "\n",
    "# loop through each group\n",
    "for group in grouper:\n",
    "    # key that is in the group\n",
    "    key = group[0] \n",
    "    print(key)\n",
    "    \n",
    "    # list of groups for this key\n",
    "    key_value_pairs = list(group[1]) \n",
    "    print(key_value_pairs)\n",
    "    \n",
    "    # only values for current key\n",
    "    values_for_this_key = list(map(lambda p: p[1], key_value_pairs)) \n",
    "    values_for_this_key = [i[1] for i in key_value_pairs]\n",
    "    print(values_for_this_key)\n",
    "    \n",
    "    # final part of map 'reduce', for this key\n",
    "    count_of_current_key = reduce(lambda x, y: x + y, values_for_this_key) \n",
    "    print(count_of_current_key)\n",
    "    \n",
    "    # put it to results\n",
    "    results.append((key, count_of_current_key))\n",
    "\n",
    "    # runs only one if break is uncommented\n",
    "    # break"
   ]
  },
  {
   "cell_type": "code",
   "execution_count": 14,
   "metadata": {},
   "outputs": [
    {
     "output_type": "execute_result",
     "data": {
      "text/plain": [
       "[('Bear', 2), ('Car', 3), ('Deer', 2), ('River', 2)]"
      ]
     },
     "metadata": {},
     "execution_count": 14
    }
   ],
   "source": [
    "results"
   ]
  },
  {
   "cell_type": "code",
   "execution_count": 15,
   "metadata": {},
   "outputs": [
    {
     "output_type": "stream",
     "name": "stdout",
     "text": [
      "[('Bear', 2), ('Car', 3), ('Deer', 2), ('River', 2)]\n"
     ]
    }
   ],
   "source": [
    "grouper = groupby(sorted_mapping, lambda p: p[0])\n",
    "\n",
    "final = map(\n",
    "    lambda l: (l[0], reduce(lambda x, y: x + y, map(lambda p: p[1], l[1]))), \n",
    "    grouper # <- [('Bear', 1), ('Bear', 1)] ---->     l[0] = 'Bear'     and      l[1] = 1\n",
    ")\n",
    "print(list(final))"
   ]
  },
  {
   "cell_type": "code",
   "execution_count": 16,
   "metadata": {},
   "outputs": [
    {
     "output_type": "execute_result",
     "data": {
      "text/plain": [
       "[('Bear', 2), ('Car', 3), ('Deer', 2), ('River', 2)]"
      ]
     },
     "metadata": {},
     "execution_count": 16
    }
   ],
   "source": [
    "results"
   ]
  },
  {
   "cell_type": "markdown",
   "metadata": {},
   "source": [
    "## Single Machine and Multiple Machines"
   ]
  },
  {
   "cell_type": "code",
   "execution_count": 17,
   "metadata": {},
   "outputs": [
    {
     "output_type": "stream",
     "name": "stdout",
     "text": [
      "max: the = 14620\n",
      "[[\"the\", 14620], [\"project\", 91], [\"gutenberg\", 94], [\"ebook\", 10], [\"of\", 6732], [\"moby\", 89], [\"dick\", 89], [\"or\", 797], [\"whale\", 1233], [\"by\", 1226]]\n",
      "CPU times: user 10.8 ms, sys: 10.5 ms, total: 21.2 ms\n",
      "Wall time: 509 ms\n"
     ]
    }
   ],
   "source": [
    "%%time\n",
    "\n",
    "! python single_machine.py"
   ]
  },
  {
   "cell_type": "code",
   "execution_count": 18,
   "metadata": {},
   "outputs": [
    {
     "output_type": "stream",
     "name": "stdout",
     "text": [
      "CPU times: user 7.32 ms, sys: 7.93 ms, total: 15.2 ms\nWall time: 442 ms\n"
     ]
    }
   ],
   "source": [
    "%%time\n",
    "\n",
    "! python mapping.py"
   ]
  },
  {
   "cell_type": "code",
   "execution_count": 19,
   "metadata": {},
   "outputs": [
    {
     "output_type": "stream",
     "name": "stdout",
     "text": [
      "CPU times: user 59.8 ms, sys: 22.6 ms, total: 82.4 ms\nWall time: 3.88 s\n"
     ]
    }
   ],
   "source": [
    "%%time\n",
    "\n",
    "! python shuffling.py"
   ]
  },
  {
   "cell_type": "code",
   "execution_count": 20,
   "metadata": {},
   "outputs": [
    {
     "output_type": "stream",
     "name": "stdout",
     "text": [
      "max: the = 14620\n",
      "CPU times: user 6.1 ms, sys: 9.19 ms, total: 15.3 ms\n",
      "Wall time: 314 ms\n"
     ]
    }
   ],
   "source": [
    "%%time\n",
    "\n",
    "! python reducing.py"
   ]
  },
  {
   "cell_type": "code",
   "execution_count": null,
   "metadata": {},
   "outputs": [],
   "source": []
  }
 ],
 "metadata": {
  "kernelspec": {
   "display_name": "Python 3",
   "language": "python",
   "name": "python3"
  },
  "language_info": {
   "codemirror_mode": {
    "name": "ipython",
    "version": 3
   },
   "file_extension": ".py",
   "mimetype": "text/x-python",
   "name": "python",
   "nbconvert_exporter": "python",
   "pygments_lexer": "ipython3",
   "version": "3.7.3"
  }
 },
 "nbformat": 4,
 "nbformat_minor": 4
}