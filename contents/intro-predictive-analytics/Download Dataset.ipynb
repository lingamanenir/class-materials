{
 "cells": [
  {
   "cell_type": "markdown",
   "id": "9e625174",
   "metadata": {},
   "source": [
    "# Download Dataset\n",
    "\n",
    "Notice: This will only work in linux based systems!"
   ]
  },
  {
   "cell_type": "code",
   "execution_count": 2,
   "id": "4cdf8165",
   "metadata": {},
   "outputs": [],
   "source": [
    "import pandas as pd\n",
    "import pyreadr"
   ]
  },
  {
   "cell_type": "markdown",
   "id": "49e32ae3",
   "metadata": {},
   "source": [
    "### Download and Extract R Package"
   ]
  },
  {
   "cell_type": "code",
   "execution_count": 3,
   "id": "1e5ddb2b",
   "metadata": {},
   "outputs": [
    {
     "name": "stdout",
     "output_type": "stream",
     "text": [
      "  % Total    % Received % Xferd  Average Speed   Time    Time     Time  Current\n",
      "                                 Dload  Upload   Total   Spent    Left  Speed\n",
      "100 1257k  100 1257k    0     0  2428k      0 --:--:-- --:--:-- --:--:-- 2423k\n"
     ]
    }
   ],
   "source": [
    "! curl -O https://cran.r-project.org/src/contrib/AppliedPredictiveModeling_1.1-7.tar.gz"
   ]
  },
  {
   "cell_type": "code",
   "execution_count": 4,
   "id": "b63fd449",
   "metadata": {},
   "outputs": [
    {
     "name": "stdout",
     "output_type": "stream",
     "text": [
      "x AppliedPredictiveModeling/\r\n",
      "x AppliedPredictiveModeling/inst/\r\n",
      "x AppliedPredictiveModeling/inst/NEWS.Rd\r\n",
      "x AppliedPredictiveModeling/inst/chapters/\r\n",
      "x AppliedPredictiveModeling/inst/chapters/10_Case_Study_Concrete.Rout\r\n",
      "x AppliedPredictiveModeling/inst/chapters/12_Discriminant_Analysis.Rout\r\n",
      "x AppliedPredictiveModeling/inst/chapters/04_Over_Fitting.Rout\r\n",
      "x AppliedPredictiveModeling/inst/chapters/CreateGrantData.R\r\n",
      "x AppliedPredictiveModeling/inst/chapters/16_Class_Imbalance.Rout\r\n",
      "x AppliedPredictiveModeling/inst/chapters/04_Over_Fitting.R\r\n",
      "x AppliedPredictiveModeling/inst/chapters/17_Job_Scheduling.R\r\n",
      "x AppliedPredictiveModeling/inst/chapters/12_Discriminant_Analysis.R\r\n",
      "x AppliedPredictiveModeling/inst/chapters/06_Linear_Regression.Rout\r\n",
      "x AppliedPredictiveModeling/inst/chapters/08_Regression_Trees.Rout\r\n",
      "x AppliedPredictiveModeling/inst/chapters/16_Class_Imbalance.R\r\n",
      "x AppliedPredictiveModeling/inst/chapters/13_Non-Linear_Class.R\r\n",
      "x AppliedPredictiveModeling/inst/chapters/07_Non-Linear_Reg.R\r\n",
      "x AppliedPredictiveModeling/inst/chapters/02_A_Short_Tour.Rout\r\n",
      "x AppliedPredictiveModeling/inst/chapters/19_Feature_Select.Rout\r\n",
      "x AppliedPredictiveModeling/inst/chapters/18_Importance.Rout\r\n",
      "x AppliedPredictiveModeling/inst/chapters/07_Non-Linear_Reg.Rout\r\n",
      "x AppliedPredictiveModeling/inst/chapters/06_Linear_Regression.R\r\n",
      "x AppliedPredictiveModeling/inst/chapters/CreateGrantData.Rout\r\n",
      "x AppliedPredictiveModeling/inst/chapters/19_Feature_Select.R\r\n",
      "x AppliedPredictiveModeling/inst/chapters/18_Importance.R\r\n",
      "x AppliedPredictiveModeling/inst/chapters/02_A_Short_Tour.R\r\n",
      "x AppliedPredictiveModeling/inst/chapters/08_Regression_Trees.R\r\n",
      "x AppliedPredictiveModeling/inst/chapters/11_Class_Performance.R\r\n",
      "x AppliedPredictiveModeling/inst/chapters/17_Job_Scheduling.Rout\r\n",
      "x AppliedPredictiveModeling/inst/chapters/14_Class_Trees.Rout\r\n",
      "x AppliedPredictiveModeling/inst/chapters/03_Data_Pre_Processing.R\r\n",
      "x AppliedPredictiveModeling/inst/chapters/13_Non-Linear_Class.Rout\r\n",
      "x AppliedPredictiveModeling/inst/chapters/11_Class_Performance.Rout\r\n",
      "x AppliedPredictiveModeling/inst/chapters/14_Class_Trees.R\r\n",
      "x AppliedPredictiveModeling/inst/chapters/10_Case_Study_Concrete.R\r\n",
      "x AppliedPredictiveModeling/inst/chapters/03_Data_Pre_Processing.Rout\r\n",
      "x AppliedPredictiveModeling/NAMESPACE\r\n",
      "x AppliedPredictiveModeling/data/\r\n",
      "x AppliedPredictiveModeling/data/permeability.RData\r\n",
      "x AppliedPredictiveModeling/data/ChemicalManufacturingProcess.RData\r\n",
      "x AppliedPredictiveModeling/data/AlzheimerDisease.RData\r\n",
      "x AppliedPredictiveModeling/data/FuelEconomy.RData\r\n",
      "x AppliedPredictiveModeling/data/twoClassData.RData\r\n",
      "x AppliedPredictiveModeling/data/solubility.RData\r\n",
      "x AppliedPredictiveModeling/data/segmentationOriginal.RData\r\n",
      "x AppliedPredictiveModeling/data/logisticCreditPredictions.RData\r\n",
      "x AppliedPredictiveModeling/data/schedulingData.RData\r\n",
      "x AppliedPredictiveModeling/data/concrete.RData\r\n",
      "x AppliedPredictiveModeling/data/datalist\r\n",
      "x AppliedPredictiveModeling/data/hepatic.RData\r\n",
      "x AppliedPredictiveModeling/data/abalone.RData\r\n",
      "x AppliedPredictiveModeling/R/\r\n",
      "x AppliedPredictiveModeling/R/permuteRelief.R\r\n",
      "x AppliedPredictiveModeling/R/easyBoundaryFunc.R\r\n",
      "x AppliedPredictiveModeling/R/transparentTheme.R\r\n",
      "x AppliedPredictiveModeling/R/scriptLocation.R\r\n",
      "x AppliedPredictiveModeling/R/quadBoundaryFunc.R\r\n",
      "x AppliedPredictiveModeling/R/bookTheme.R\r\n",
      "x AppliedPredictiveModeling/R/getPackages.R\r\n",
      "x AppliedPredictiveModeling/R/panels.R\r\n",
      "x AppliedPredictiveModeling/README.md\r\n",
      "x AppliedPredictiveModeling/MD5\r\n",
      "x AppliedPredictiveModeling/DESCRIPTION\r\n",
      "x AppliedPredictiveModeling/man/\r\n",
      "x AppliedPredictiveModeling/man/bookTheme.Rd\r\n",
      "x AppliedPredictiveModeling/man/internal.Rd\r\n",
      "x AppliedPredictiveModeling/man/concrete.Rd\r\n",
      "x AppliedPredictiveModeling/man/jobScheduling.Rd\r\n",
      "x AppliedPredictiveModeling/man/permuteRelief.Rd\r\n",
      "x AppliedPredictiveModeling/man/quadBoundaryFunc.Rd\r\n",
      "x AppliedPredictiveModeling/man/segmentationOrignal.Rd\r\n",
      "x AppliedPredictiveModeling/man/Hepatic.Rd\r\n",
      "x AppliedPredictiveModeling/man/getPackages.Rd\r\n",
      "x AppliedPredictiveModeling/man/scriptLocation.Rd\r\n",
      "x AppliedPredictiveModeling/man/AppliedPredictiveModeling-package.Rd\r\n",
      "x AppliedPredictiveModeling/man/permeability.Rd\r\n",
      "x AppliedPredictiveModeling/man/solubility.Rd\r\n",
      "x AppliedPredictiveModeling/man/AlzheimerDisease.Rd\r\n",
      "x AppliedPredictiveModeling/man/abalone.Rd\r\n",
      "x AppliedPredictiveModeling/man/twoClassData.Rd\r\n",
      "x AppliedPredictiveModeling/man/FuelEconomy.Rd\r\n",
      "x AppliedPredictiveModeling/man/ChemicalManufacturingProcess.Rd\r\n",
      "x AppliedPredictiveModeling/man/logisticCreditPredictions.Rd\r\n"
     ]
    }
   ],
   "source": [
    "! tar -xzvf AppliedPredictiveModeling_1.1-7.tar.gz"
   ]
  },
  {
   "cell_type": "markdown",
   "id": "33a56370",
   "metadata": {},
   "source": [
    "### Prepare Single File"
   ]
  },
  {
   "cell_type": "code",
   "execution_count": 5,
   "id": "07998387",
   "metadata": {},
   "outputs": [],
   "source": [
    "data_dict = pyreadr.read_r('AppliedPredictiveModeling/data/FuelEconomy.RData')"
   ]
  },
  {
   "cell_type": "code",
   "execution_count": 6,
   "id": "0711de63",
   "metadata": {},
   "outputs": [
    {
     "name": "stdout",
     "output_type": "stream",
     "text": [
      "(1107, 14)\n",
      "(245, 14)\n",
      "(95, 14)\n"
     ]
    }
   ],
   "source": [
    "dfs = []\n",
    "for key_name in data_dict.keys():\n",
    "    df = data_dict.get(key_name)\n",
    "    print(df.shape)\n",
    "    df['ModelYear'] = key_name.split('cars')[1]\n",
    "    dfs.append(df)"
   ]
  },
  {
   "cell_type": "code",
   "execution_count": 7,
   "id": "9e680de7",
   "metadata": {},
   "outputs": [],
   "source": [
    "df = pd.concat(dfs, ignore_index=True)"
   ]
  },
  {
   "cell_type": "code",
   "execution_count": 8,
   "id": "14545dd8",
   "metadata": {},
   "outputs": [],
   "source": [
    "df.to_csv('fueleconomy.csv', index=False)"
   ]
  },
  {
   "cell_type": "markdown",
   "id": "a7099c76",
   "metadata": {},
   "source": [
    "### Summary"
   ]
  },
  {
   "cell_type": "code",
   "execution_count": 9,
   "id": "12f1fa09",
   "metadata": {},
   "outputs": [
    {
     "data": {
      "text/plain": [
       "Index(['EngDispl', 'NumCyl', 'Transmission', 'FE', 'AirAspirationMethod',\n",
       "       'NumGears', 'TransLockup', 'TransCreeperGear', 'DriveDesc',\n",
       "       'IntakeValvePerCyl', 'ExhaustValvesPerCyl', 'CarlineClassDesc',\n",
       "       'VarValveTiming', 'VarValveLift', 'ModelYear'],\n",
       "      dtype='object')"
      ]
     },
     "execution_count": 9,
     "metadata": {},
     "output_type": "execute_result"
    }
   ],
   "source": [
    "df.columns"
   ]
  },
  {
   "cell_type": "code",
   "execution_count": 10,
   "id": "59a2f4a7",
   "metadata": {},
   "outputs": [
    {
     "data": {
      "text/html": [
       "<div>\n",
       "<style scoped>\n",
       "    .dataframe tbody tr th:only-of-type {\n",
       "        vertical-align: middle;\n",
       "    }\n",
       "\n",
       "    .dataframe tbody tr th {\n",
       "        vertical-align: top;\n",
       "    }\n",
       "\n",
       "    .dataframe thead th {\n",
       "        text-align: right;\n",
       "    }\n",
       "</style>\n",
       "<table border=\"1\" class=\"dataframe\">\n",
       "  <thead>\n",
       "    <tr style=\"text-align: right;\">\n",
       "      <th></th>\n",
       "      <th>EngDispl</th>\n",
       "      <th>NumCyl</th>\n",
       "      <th>Transmission</th>\n",
       "      <th>FE</th>\n",
       "      <th>AirAspirationMethod</th>\n",
       "      <th>NumGears</th>\n",
       "      <th>TransLockup</th>\n",
       "      <th>TransCreeperGear</th>\n",
       "      <th>DriveDesc</th>\n",
       "      <th>IntakeValvePerCyl</th>\n",
       "      <th>ExhaustValvesPerCyl</th>\n",
       "      <th>CarlineClassDesc</th>\n",
       "      <th>VarValveTiming</th>\n",
       "      <th>VarValveLift</th>\n",
       "      <th>ModelYear</th>\n",
       "    </tr>\n",
       "  </thead>\n",
       "  <tbody>\n",
       "    <tr>\n",
       "      <th>0</th>\n",
       "      <td>4.7</td>\n",
       "      <td>8</td>\n",
       "      <td>AM6</td>\n",
       "      <td>28.0198</td>\n",
       "      <td>NaturallyAspirated</td>\n",
       "      <td>6</td>\n",
       "      <td>1.0</td>\n",
       "      <td>0.0</td>\n",
       "      <td>TwoWheelDriveRear</td>\n",
       "      <td>2</td>\n",
       "      <td>2</td>\n",
       "      <td>2Seaters</td>\n",
       "      <td>1.0</td>\n",
       "      <td>0.0</td>\n",
       "      <td>2010</td>\n",
       "    </tr>\n",
       "    <tr>\n",
       "      <th>1</th>\n",
       "      <td>4.7</td>\n",
       "      <td>8</td>\n",
       "      <td>M6</td>\n",
       "      <td>25.6094</td>\n",
       "      <td>NaturallyAspirated</td>\n",
       "      <td>6</td>\n",
       "      <td>1.0</td>\n",
       "      <td>0.0</td>\n",
       "      <td>TwoWheelDriveRear</td>\n",
       "      <td>2</td>\n",
       "      <td>2</td>\n",
       "      <td>2Seaters</td>\n",
       "      <td>1.0</td>\n",
       "      <td>0.0</td>\n",
       "      <td>2010</td>\n",
       "    </tr>\n",
       "    <tr>\n",
       "      <th>2</th>\n",
       "      <td>4.2</td>\n",
       "      <td>8</td>\n",
       "      <td>M6</td>\n",
       "      <td>26.8000</td>\n",
       "      <td>NaturallyAspirated</td>\n",
       "      <td>6</td>\n",
       "      <td>1.0</td>\n",
       "      <td>0.0</td>\n",
       "      <td>AllWheelDrive</td>\n",
       "      <td>2</td>\n",
       "      <td>2</td>\n",
       "      <td>2Seaters</td>\n",
       "      <td>1.0</td>\n",
       "      <td>0.0</td>\n",
       "      <td>2010</td>\n",
       "    </tr>\n",
       "    <tr>\n",
       "      <th>3</th>\n",
       "      <td>4.2</td>\n",
       "      <td>8</td>\n",
       "      <td>AM6</td>\n",
       "      <td>25.0451</td>\n",
       "      <td>NaturallyAspirated</td>\n",
       "      <td>6</td>\n",
       "      <td>1.0</td>\n",
       "      <td>0.0</td>\n",
       "      <td>AllWheelDrive</td>\n",
       "      <td>2</td>\n",
       "      <td>2</td>\n",
       "      <td>2Seaters</td>\n",
       "      <td>1.0</td>\n",
       "      <td>0.0</td>\n",
       "      <td>2010</td>\n",
       "    </tr>\n",
       "    <tr>\n",
       "      <th>4</th>\n",
       "      <td>5.2</td>\n",
       "      <td>10</td>\n",
       "      <td>AM6</td>\n",
       "      <td>24.8000</td>\n",
       "      <td>NaturallyAspirated</td>\n",
       "      <td>6</td>\n",
       "      <td>0.0</td>\n",
       "      <td>0.0</td>\n",
       "      <td>AllWheelDrive</td>\n",
       "      <td>2</td>\n",
       "      <td>2</td>\n",
       "      <td>2Seaters</td>\n",
       "      <td>1.0</td>\n",
       "      <td>0.0</td>\n",
       "      <td>2010</td>\n",
       "    </tr>\n",
       "  </tbody>\n",
       "</table>\n",
       "</div>"
      ],
      "text/plain": [
       "   EngDispl  NumCyl Transmission       FE AirAspirationMethod  NumGears  \\\n",
       "0       4.7       8          AM6  28.0198  NaturallyAspirated         6   \n",
       "1       4.7       8           M6  25.6094  NaturallyAspirated         6   \n",
       "2       4.2       8           M6  26.8000  NaturallyAspirated         6   \n",
       "3       4.2       8          AM6  25.0451  NaturallyAspirated         6   \n",
       "4       5.2      10          AM6  24.8000  NaturallyAspirated         6   \n",
       "\n",
       "   TransLockup  TransCreeperGear          DriveDesc  IntakeValvePerCyl  \\\n",
       "0          1.0               0.0  TwoWheelDriveRear                  2   \n",
       "1          1.0               0.0  TwoWheelDriveRear                  2   \n",
       "2          1.0               0.0      AllWheelDrive                  2   \n",
       "3          1.0               0.0      AllWheelDrive                  2   \n",
       "4          0.0               0.0      AllWheelDrive                  2   \n",
       "\n",
       "   ExhaustValvesPerCyl CarlineClassDesc  VarValveTiming  VarValveLift  \\\n",
       "0                    2         2Seaters             1.0           0.0   \n",
       "1                    2         2Seaters             1.0           0.0   \n",
       "2                    2         2Seaters             1.0           0.0   \n",
       "3                    2         2Seaters             1.0           0.0   \n",
       "4                    2         2Seaters             1.0           0.0   \n",
       "\n",
       "  ModelYear  \n",
       "0      2010  \n",
       "1      2010  \n",
       "2      2010  \n",
       "3      2010  \n",
       "4      2010  "
      ]
     },
     "execution_count": 10,
     "metadata": {},
     "output_type": "execute_result"
    }
   ],
   "source": [
    "df.head()"
   ]
  }
 ],
 "metadata": {
  "kernelspec": {
   "display_name": "Default",
   "language": "python",
   "name": "default"
  },
  "language_info": {
   "codemirror_mode": {
    "name": "ipython",
    "version": 3
   },
   "file_extension": ".py",
   "mimetype": "text/x-python",
   "name": "python",
   "nbconvert_exporter": "python",
   "pygments_lexer": "ipython3",
   "version": "3.9.4"
  }
 },
 "nbformat": 4,
 "nbformat_minor": 5
}
